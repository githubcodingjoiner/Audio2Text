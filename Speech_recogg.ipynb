{
 "cells": [
  {
   "cell_type": "code",
   "execution_count": 1,
   "id": "6c18d340-cfb8-4cfb-af8f-d986a5dbba65",
   "metadata": {},
   "outputs": [],
   "source": [
    "import tkinter as tk\n",
    "import speech_recognition\n",
    "import pyttsx3\n",
    "import sys"
   ]
  },
  {
   "cell_type": "code",
   "execution_count": 2,
   "id": "bc2cb0dd-baaa-4cc8-925e-662e65d00c8f",
   "metadata": {},
   "outputs": [],
   "source": [
    "def SpeakNow(command):\n",
    "    voice = pyttsx3.init()\n",
    "    voice.say(command)\n",
    "    voice.runAndWait()"
   ]
  },
  {
   "cell_type": "code",
   "execution_count": 3,
   "id": "0d8d9812-e4d9-46be-a5da-729e4105393d",
   "metadata": {},
   "outputs": [],
   "source": [
    "class SpeechRecorder:\n",
    "    def __init__(self):\n",
    "        self.recorded_text = \"\"\n",
    "\n",
    "    def start_listening(self):\n",
    "        self.recorded_text = \"\"\n",
    "        with speech_recognition.Microphone() as src:\n",
    "            print(\"Shushhh..!!! I'm Listening\")\n",
    "            sr.adjust_for_ambient_noise(src, duration=1)\n",
    "            print(\"Listening.... Speak Now Please..!!\")\n",
    "            try:\n",
    "                audio = sr.listen(src, timeout=5, phrase_time_limit=10)\n",
    "                self.recorded_text = sr.recognize_google(audio)\n",
    "                self.recorded_text = self.recorded_text.lower()\n",
    "                print(\"You: \" + self.recorded_text)\n",
    "            except speech_recognition.UnknownValueError:\n",
    "                print(\"Sorry, I didn't get that.\")\n",
    "            except speech_recognition.RequestError:\n",
    "                print(\"Could not request results from Google Speech Recognition service.\")\n",
    "            except speech_recognition.WaitTimeoutError:\n",
    "                print(\"No speech was detected in time.\")\n",
    "\n",
    "    def speak_recorded_text(self):\n",
    "        SpeakNow(self.recorded_text)"
   ]
  },
  {
   "cell_type": "code",
   "execution_count": 4,
   "id": "4cf6c47c-2276-413d-9577-da4e2cc0331d",
   "metadata": {},
   "outputs": [
    {
     "name": "stdout",
     "output_type": "stream",
     "text": [
      "Shushhh..!!! I'm Listening\n",
      "Listening.... Speak Now Please..!!\n",
      "Sorry, I didn't get that.\n",
      "Shushhh..!!! I'm Listening\n",
      "Listening.... Speak Now Please..!!\n",
      "You: hay didi here your learning in hindi\n"
     ]
    }
   ],
   "source": [
    "root = tk.Tk()\n",
    "root.title(\"Speech Recorder\")\n",
    "root.geometry(\"800x500\")\n",
    "\n",
    "sr = speech_recognition.Recognizer()\n",
    "speech_recorder = SpeechRecorder()\n",
    "\n",
    "listen_button = tk.Button(root, text=\"Start Listening and Recording\", command=speech_recorder.start_listening)\n",
    "listen_button.pack()\n",
    "\n",
    "speak_button = tk.Button(root, text=\"Speak Recorded Text\", command=speech_recorder.speak_recorded_text)\n",
    "speak_button.pack()\n",
    "\n",
    "root.mainloop()"
   ]
  },
  {
   "cell_type": "code",
   "execution_count": null,
   "id": "2aff9062-d116-49b0-8da0-e1f96ec89385",
   "metadata": {},
   "outputs": [],
   "source": []
  }
 ],
 "metadata": {
  "kernelspec": {
   "display_name": "Python 3 (ipykernel)",
   "language": "python",
   "name": "python3"
  },
  "language_info": {
   "codemirror_mode": {
    "name": "ipython",
    "version": 3
   },
   "file_extension": ".py",
   "mimetype": "text/x-python",
   "name": "python",
   "nbconvert_exporter": "python",
   "pygments_lexer": "ipython3",
   "version": "3.10.9"
  }
 },
 "nbformat": 4,
 "nbformat_minor": 5
}
